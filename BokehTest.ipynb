{
 "cells": [
  {
   "cell_type": "code",
   "execution_count": 1,
   "metadata": {},
   "outputs": [],
   "source": [
    "#importing bokeh lib funcs\n",
    "from bokeh.plotting import figure,show"
   ]
  },
  {
   "cell_type": "code",
   "execution_count": 2,
   "metadata": {},
   "outputs": [],
   "source": [
    "#preping the data to be loaded\n",
    "x = [1,6,2,8,4,9]\n",
    "y = [9,2,8,1,7,3]\n",
    "\n",
    "#storing the figure into a showable variable, this creates a graph for us to draw on\n",
    "p = figure(title=\"Simple Line Chart\",x_axis_label=\"x\",y_axis_label=\"y\")\n",
    "\n",
    "#adding a line to this graph with specifications\n",
    "p.line(x=x,y=y,line_width=1.5)\n",
    "#using show to plot the graph\n",
    "show(p)\n",
    "#figure gets displayed in browser with all bokeh features like zoom, reset, save etc."
   ]
  },
  {
   "cell_type": "code",
   "execution_count": 3,
   "metadata": {},
   "outputs": [],
   "source": [
    "#let's try the same with multiple lines\n",
    "x = [1, 2, 3, 4, 5]\n",
    "y1 = [6, 7, 2, 4, 5]\n",
    "y2 = [2, 3, 4, 5, 6]\n",
    "y3 = [4, 5, 5, 7, 2]\n",
    "\n",
    "p = figure(title=\"Multi Line Chart\",x_axis_label=\"X values\",y_axis_label=\"Y values\")\n",
    "\n",
    "p.line(x=x, y=y1, legend_label=\"Sales\",color=\"blue\",line_width=2)\n",
    "p.line(x=x, y=y2, legend_label=\"Marketting\",color=\"red\",line_width=2)\n",
    "p.line(x=x, y=y3, legend_label=\"HR\",color=\"green\",line_width=2)\n",
    "\n",
    "#all lines added to our single plot\n",
    "show(p)"
   ]
  },
  {
   "cell_type": "code",
   "execution_count": 5,
   "metadata": {},
   "outputs": [],
   "source": [
    "#BoxAnnotations Example\n",
    "#first we need to import the BoxAnnotations lib\n",
    "from bokeh.models import BoxAnnotation"
   ]
  },
  {
   "cell_type": "code",
   "execution_count": 9,
   "metadata": {},
   "outputs": [],
   "source": [
    "#let's prep our data to be loaded\n",
    "x = [1,2,3,3,4,5,6,6,6,7,8,8,9,4,5,4,4,4]\n",
    "y = [12,25,13,3,4,9,2,6,63,7,8,8,0,4,52,43,4,4]\n",
    "\n",
    "p = figure(name=\"Annotations Example\", x_axis_label=\"x\", y_axis_label=\"y\")\n",
    "p.line(x,y)\n",
    "low = BoxAnnotation(top=15, fill_alpha=0.2, fill_color=\"#F0E442\")\n",
    "mid = BoxAnnotation(bottom=15, top=50, fill_alpha=0.2, fill_color=\"#009E73\")\n",
    "high = BoxAnnotation(bottom=50, fill_alpha=0.2, fill_color=\"#F0E442\")\n",
    "\n",
    "p.add_layout(low)\n",
    "p.add_layout(mid)\n",
    "p.add_layout(high)\n",
    "\n",
    "show(p)"
   ]
  },
  {
   "cell_type": "code",
   "execution_count": 11,
   "metadata": {},
   "outputs": [],
   "source": [
    "#using buil-in themes for our Plots\n",
    "#bokeh lib comes with 5 in-built themes caliber, dark_minimal, \n",
    "#light_minimal, night_sky, and contrast.\n",
    "#let's try each of these themes for 5 diff plots\n",
    "from bokeh.io import curdoc\n",
    "curdoc().theme = \"caliber\"\n",
    "p1 = figure(title=\"Figure with Caliber Theme\",x_axis_label=\"X Axis\",y_axis_label=\"Y Axis\")\n",
    "p1.line(x,y)\n",
    "show(p1)\n",
    "\n",
    "curdoc().theme = \"dark_minimal\"\n",
    "p2 = figure(title=\"Figure with Dark Minimal Theme\",x_axis_label=\"X Axis\",y_axis_label=\"Y Axis\")\n",
    "p2.line(x,y)\n",
    "show(p2)\n",
    "\n",
    "curdoc().theme = \"light_minimal\"\n",
    "p3 = figure(title=\"Figure with Light Minimal Theme\",x_axis_label=\"X Axis\",y_axis_label=\"Y Axis\")\n",
    "p3.line(x,y)\n",
    "show(p3)\n",
    "\n",
    "curdoc().theme = \"night_sky\"\n",
    "p4 = figure(title=\"Figure with Night Sky Theme\",x_axis_label=\"X Axis\",y_axis_label=\"Y Axis\")\n",
    "p4.line(x,y)\n",
    "show(p4)\n",
    "\n",
    "curdoc().theme = \"contrast\"\n",
    "p5 = figure(title=\"Figure with Contrast Theme\",x_axis_label=\"X Axis\",y_axis_label=\"Y Axis\")\n",
    "p5.line(x,y)\n",
    "show(p5)\n",
    "\n",
    "#Works Perfectly!"
   ]
  },
  {
   "cell_type": "code",
   "execution_count": 15,
   "metadata": {},
   "outputs": [],
   "source": [
    "#customizing the axes of our plot\n",
    "#let's take a plot and try to play with the X and Y axes\n",
    "curdoc().theme = \"caliber\"\n",
    "p = figure(title=\"Customizing Axes\",\n",
    "            sizing_mode=\"stretch_width\",\n",
    "            max_width=700,\n",
    "            height=300)\n",
    "p.circle(x,y,size=5)\n",
    "p.xaxis.axis_label=\"X Axis\"\n",
    "p.xaxis.axis_line_width=3\n",
    "p.xaxis.axis_line_color=\"blue\"\n",
    "p.xaxis.major_tick_in = -4\n",
    "p.xaxis.major_tick_out = 7\n",
    "\n",
    "p.yaxis.axis_label=\"Y Axis\"\n",
    "p.yaxis.axis_line_color=\"red\"\n",
    "p.yaxis.minor_tick_in = -3\n",
    "p.yaxis.minor_tick_out = 7\n",
    "\n",
    "show(p)"
   ]
  }
 ],
 "metadata": {
  "kernelspec": {
   "display_name": "base",
   "language": "python",
   "name": "python3"
  },
  "language_info": {
   "codemirror_mode": {
    "name": "ipython",
    "version": 3
   },
   "file_extension": ".py",
   "mimetype": "text/x-python",
   "name": "python",
   "nbconvert_exporter": "python",
   "pygments_lexer": "ipython3",
   "version": "3.8.8"
  },
  "orig_nbformat": 4,
  "vscode": {
   "interpreter": {
    "hash": "a077222d77dfe082b8f1dd562ad70e458ac2ab76993a0b248ab0476e32e9e8dd"
   }
  }
 },
 "nbformat": 4,
 "nbformat_minor": 2
}
